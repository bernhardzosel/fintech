{
 "cells": [
  {
   "cell_type": "code",
   "execution_count": 38,
   "metadata": {},
   "outputs": [],
   "source": [
    "from web3 import Web3, EthereumTesterProvider\n",
    "from web3.auto import w3\n",
    "from eth_account import Account"
   ]
  },
  {
   "cell_type": "code",
   "execution_count": 68,
   "metadata": {},
   "outputs": [
    {
     "data": {
      "text/plain": [
       "True"
      ]
     },
     "execution_count": 68,
     "metadata": {},
     "output_type": "execute_result"
    }
   ],
   "source": [
    "#w3 = Web3(EthereumTesterProvider())\n",
    "#w3.is_connected()\n",
    "\n",
    "w3 = Web3(Web3.HTTPProvider(\"https://sepolia.infura.io/v3/cbdf9e329a704c7d937be773ff2c3c2e\"))\n",
    "w3.is_connected()"
   ]
  },
  {
   "cell_type": "code",
   "execution_count": 69,
   "metadata": {},
   "outputs": [],
   "source": [
    "def generate_new_wallet():\n",
    "    # Generate a new account\n",
    "    account = Account.create()\n",
    "    # Get private key and address\n",
    "    private_key = account.key.hex()\n",
    "    address = account.address\n",
    "    return private_key, address"
   ]
  },
  {
   "cell_type": "code",
   "execution_count": 78,
   "metadata": {},
   "outputs": [
    {
     "name": "stdout",
     "output_type": "stream",
     "text": [
      "New Wallet - Address: 0xC26CCf7c239d4F75eCD56692bA175a254b439683, Private Key: 0x9a01e950ea6ed278987e85aff4c2be198d8ed9fee2fb9a82229ca49a9ebf5bd8\n",
      "New Wallet - Address: 0x920e98b91954282A363C08B5087B7c74B7aeA6e9, Private Key: 0xb8dca5cc1859a9a1d47d376bf2524a2631d9126050f5330d351b2f7098f2231a\n"
     ]
    }
   ],
   "source": [
    "private_key1, address1 = generate_new_wallet()\n",
    "print(f\"New Wallet - Address: {address1}, Private Key: {private_key1}\")\n",
    "\n",
    "private_key2, address2 = generate_new_wallet()\n",
    "print(f\"New Wallet - Address: {address2}, Private Key: {private_key2}\")"
   ]
  },
  {
   "cell_type": "code",
   "execution_count": 86,
   "metadata": {},
   "outputs": [
    {
     "name": "stdout",
     "output_type": "stream",
     "text": [
      "Imported Wallet - Address: 0x633f4bA0e352f466591edDac63b8Cc232A7be544\n",
      "Imported Wallet - Address: 0xfe86D01A532ee34f0ED04403D15Af2bA88a0d1c0\n",
      "Imported Wallet - Address: 0xC26CCf7c239d4F75eCD56692bA175a254b439683\n"
     ]
    }
   ],
   "source": [
    "def import_wallet(private_key):\n",
    "    # Import an account using its private key\n",
    "    wallet = Account.from_key(private_key)\n",
    "    return wallet\n",
    "\n",
    "# Example usage\n",
    "existing_private_key = \"0x2a96ea2cf3aa1bae024f8bb3610e15539f4e62b1647f3e181ba57eeb1f923b70\"  # Replace with the actual private key\n",
    "wallet1 = import_wallet(existing_private_key)\n",
    "print(f\"Imported Wallet - Address: {wallet1.address}\")\n",
    "\n",
    "existing_private_key = \"0xecb8bd8142529761b34ad19adac6abf62b9988720280fcae5e0e12995efc17b0\"  # Replace with the actual private key\n",
    "wallet2 = import_wallet(existing_private_key)\n",
    "print(f\"Imported Wallet - Address: {wallet2.address}\")\n",
    "\n",
    "existing_private_key = \"0x9a01e950ea6ed278987e85aff4c2be198d8ed9fee2fb9a82229ca49a9ebf5bd8\"  # Replace with the actual private key\n",
    "wallet3 = import_wallet(existing_private_key)\n",
    "print(f\"Imported Wallet - Address: {wallet3.address}\")\n"
   ]
  },
  {
   "cell_type": "code",
   "execution_count": 87,
   "metadata": {},
   "outputs": [
    {
     "name": "stdout",
     "output_type": "stream",
     "text": [
      "Balance for 0x633f4bA0e352f466591edDac63b8Cc232A7be544: 0.489993593899201 ETH\n",
      "Balance for 0xfe86D01A532ee34f0ED04403D15Af2bA88a0d1c0: 0.01 ETH\n",
      "Balance for 0xC26CCf7c239d4F75eCD56692bA175a254b439683: 0 ETH\n"
     ]
    }
   ],
   "source": [
    "def get_balance(address):\n",
    "    # Check if connected to Web3\n",
    "    if w3.is_connected():\n",
    "        # Convert address to checksum format\n",
    "        checksum_address = w3.to_checksum_address(address)\n",
    "        # Get balance in Wei\n",
    "        balance_wei = w3.eth.get_balance(checksum_address)\n",
    "        # Convert Wei to Ether\n",
    "        return w3.from_wei(balance_wei, 'ether')\n",
    "    else:\n",
    "        return \"Not connected to Web3\"\n",
    "\n",
    "# Example usage\n",
    "balance = get_balance(wallet1.address)\n",
    "print(f\"Balance for {wallet1.address}: {balance} ETH\")\n",
    "\n",
    "balance = get_balance(wallet2.address)\n",
    "print(f\"Balance for {wallet2.address}: {balance} ETH\")\n",
    "\n",
    "balance = get_balance(wallet3.address)\n",
    "print(f\"Balance for {wallet3.address}: {balance} ETH\")\n",
    "\n"
   ]
  },
  {
   "cell_type": "markdown",
   "metadata": {},
   "source": [
    "## Transactions"
   ]
  },
  {
   "cell_type": "code",
   "execution_count": 74,
   "metadata": {},
   "outputs": [
    {
     "name": "stdout",
     "output_type": "stream",
     "text": [
      "Transaction successful.\n"
     ]
    }
   ],
   "source": [
    "# Example to simulate internal transactions\n",
    "def internal_transaction(wallets, from_address, to_address, amount):\n",
    "    if wallets[from_address] >= amount:\n",
    "        wallets[from_address] -= amount\n",
    "        wallets[to_address] += amount\n",
    "        return True\n",
    "    return False\n",
    "\n",
    "# Example wallet balances\n",
    "wallets = {\n",
    "    \"0x633f4bA0e352f466591edDac63b8Cc232A7be544\": 10,  # Replace with actual addresses and balances\n",
    "    \"0xfe86D01A532ee34f0ED04403D15Af2bA88a0d1c0\": 5\n",
    "}\n",
    "\n",
    "# Simulate transaction\n",
    "transaction_success = internal_transaction(wallets, \"0x633f4bA0e352f466591edDac63b8Cc232A7be544\", \"0xfe86D01A532ee34f0ED04403D15Af2bA88a0d1c0\", 1)\n",
    "if transaction_success:\n",
    "    print(\"Transaction successful.\")\n",
    "else:\n",
    "    print(\"Insufficient funds.\")\n"
   ]
  },
  {
   "cell_type": "code",
   "execution_count": 80,
   "metadata": {},
   "outputs": [
    {
     "name": "stdout",
     "output_type": "stream",
     "text": [
      "Transaction Hash: 0xc6331b89c2277dd7bc57095dd0ebf2c3d0a5ed85afd66d2634748e4b7813a88a\n"
     ]
    }
   ],
   "source": [
    "def send_transaction(from_wallet, to_address, amount):\n",
    "    nonce = w3.eth.get_transaction_count(from_wallet.address)\n",
    "    tx = {\n",
    "        'nonce': nonce,\n",
    "        'to': to_address,\n",
    "        'value': w3.to_wei(amount, 'ether'),\n",
    "        'gas': 21000,\n",
    "        'gasPrice': w3.eth.gas_price\n",
    "    }\n",
    "    signed_tx = w3.eth.account.sign_transaction(tx, from_wallet.key)\n",
    "    return w3.eth.send_raw_transaction(signed_tx.rawTransaction)\n",
    "\n",
    "# Example Usage\n",
    "tx_hash = send_transaction(wallet1, \"0xfe86D01A532ee34f0ED04403D15Af2bA88a0d1c0\", 0.01)\n",
    "print(f\"Transaction Hash: {w3.to_hex(tx_hash)}\")"
   ]
  },
  {
   "cell_type": "code",
   "execution_count": 88,
   "metadata": {},
   "outputs": [
    {
     "name": "stdout",
     "output_type": "stream",
     "text": [
      "Balance for 0x633f4bA0e352f466591edDac63b8Cc232A7be544: 0.489993593899201 ETH\n",
      "Balance for 0xfe86D01A532ee34f0ED04403D15Af2bA88a0d1c0: 0.01 ETH\n",
      "Balance for 0xfe86D01A532ee34f0ED04403D15Af2bA88a0d1c0: 0.01 ETH\n"
     ]
    }
   ],
   "source": [
    "balance = get_balance(wallet1.address)\n",
    "print(f\"Balance for {wallet1.address}: {balance} ETH\")\n",
    "\n",
    "balance = get_balance(wallet2.address)\n",
    "print(f\"Balance for {wallet2.address}: {balance} ETH\")\n",
    "\n",
    "balance = get_balance(wallet3.address)\n",
    "print(f\"Balance for {wallet3.address}: {balance} ETH\")"
   ]
  },
  {
   "cell_type": "code",
   "execution_count": 83,
   "metadata": {},
   "outputs": [],
   "source": [
    "# https://sepolia.etherscan.io/tx/0x97348b6ff9c7f54314ee22eca095cb55a766f7fe1b66c70cbb8cabdc701a49a0#statechange\n",
    "# Faucet: https://www.infura.io/faucet/sepolia"
   ]
  },
  {
   "cell_type": "markdown",
   "metadata": {},
   "source": [
    "## Smart Contract"
   ]
  },
  {
   "cell_type": "code",
   "execution_count": 89,
   "metadata": {},
   "outputs": [
    {
     "name": "stdout",
     "output_type": "stream",
     "text": [
      "Contract Deployed at Address: 0xA333b344c513E6f3Cf6BBb9611C5F7506AE14476\n"
     ]
    }
   ],
   "source": [
    "assert w3.is_connected(), \"Failed to connect to Ethereum node.\"\n",
    "\n",
    "# Contract ABI and Bytecode\n",
    "contract_abi = \"\"\"[\n",
    "\t{\n",
    "\t\t\"inputs\": [\n",
    "\t\t\t{\n",
    "\t\t\t\t\"internalType\": \"uint256\",\n",
    "\t\t\t\t\"name\": \"_giftValue\",\n",
    "\t\t\t\t\"type\": \"uint256\"\n",
    "\t\t\t},\n",
    "\t\t\t{\n",
    "\t\t\t\t\"internalType\": \"address payable[]\",\n",
    "\t\t\t\t\"name\": \"_contributors\",\n",
    "\t\t\t\t\"type\": \"address[]\"\n",
    "\t\t\t}\n",
    "\t\t],\n",
    "\t\t\"stateMutability\": \"nonpayable\",\n",
    "\t\t\"type\": \"constructor\"\n",
    "\t},\n",
    "\t{\n",
    "\t\t\"inputs\": [],\n",
    "\t\t\"name\": \"contribute\",\n",
    "\t\t\"outputs\": [],\n",
    "\t\t\"stateMutability\": \"payable\",\n",
    "\t\t\"type\": \"function\"\n",
    "\t},\n",
    "\t{\n",
    "\t\t\"inputs\": [\n",
    "\t\t\t{\n",
    "\t\t\t\t\"internalType\": \"uint256\",\n",
    "\t\t\t\t\"name\": \"\",\n",
    "\t\t\t\t\"type\": \"uint256\"\n",
    "\t\t\t}\n",
    "\t\t],\n",
    "\t\t\"name\": \"contributors\",\n",
    "\t\t\"outputs\": [\n",
    "\t\t\t{\n",
    "\t\t\t\t\"internalType\": \"address payable\",\n",
    "\t\t\t\t\"name\": \"\",\n",
    "\t\t\t\t\"type\": \"address\"\n",
    "\t\t\t}\n",
    "\t\t],\n",
    "\t\t\"stateMutability\": \"view\",\n",
    "\t\t\"type\": \"function\"\n",
    "\t},\n",
    "\t{\n",
    "\t\t\"inputs\": [],\n",
    "\t\t\"name\": \"giftPurchased\",\n",
    "\t\t\"outputs\": [\n",
    "\t\t\t{\n",
    "\t\t\t\t\"internalType\": \"bool\",\n",
    "\t\t\t\t\"name\": \"\",\n",
    "\t\t\t\t\"type\": \"bool\"\n",
    "\t\t\t}\n",
    "\t\t],\n",
    "\t\t\"stateMutability\": \"view\",\n",
    "\t\t\"type\": \"function\"\n",
    "\t},\n",
    "\t{\n",
    "\t\t\"inputs\": [],\n",
    "\t\t\"name\": \"giftValue\",\n",
    "\t\t\"outputs\": [\n",
    "\t\t\t{\n",
    "\t\t\t\t\"internalType\": \"uint256\",\n",
    "\t\t\t\t\"name\": \"\",\n",
    "\t\t\t\t\"type\": \"uint256\"\n",
    "\t\t\t}\n",
    "\t\t],\n",
    "\t\t\"stateMutability\": \"view\",\n",
    "\t\t\"type\": \"function\"\n",
    "\t},\n",
    "\t{\n",
    "\t\t\"inputs\": [\n",
    "\t\t\t{\n",
    "\t\t\t\t\"internalType\": \"address payable\",\n",
    "\t\t\t\t\"name\": \"vendor\",\n",
    "\t\t\t\t\"type\": \"address\"\n",
    "\t\t\t}\n",
    "\t\t],\n",
    "\t\t\"name\": \"purchaseGift\",\n",
    "\t\t\"outputs\": [],\n",
    "\t\t\"stateMutability\": \"nonpayable\",\n",
    "\t\t\"type\": \"function\"\n",
    "\t},\n",
    "\t{\n",
    "\t\t\"inputs\": [],\n",
    "\t\t\"name\": \"totalContributed\",\n",
    "\t\t\"outputs\": [\n",
    "\t\t\t{\n",
    "\t\t\t\t\"internalType\": \"uint256\",\n",
    "\t\t\t\t\"name\": \"\",\n",
    "\t\t\t\t\"type\": \"uint256\"\n",
    "\t\t\t}\n",
    "\t\t],\n",
    "\t\t\"stateMutability\": \"view\",\n",
    "\t\t\"type\": \"function\"\n",
    "\t}\n",
    "]\"\"\"\n",
    "contract_bytecode = \"\"\"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\"\"\"\n",
    "\n",
    "# Create Contract instance\n",
    "Contract = w3.eth.contract(abi=contract_abi, bytecode=contract_bytecode)\n",
    "\n",
    "# Account details for deployment\n",
    "account_address = '0x633f4bA0e352f466591edDac63b8Cc232A7be544'\n",
    "private_key = '0x2a96ea2cf3aa1bae024f8bb3610e15539f4e62b1647f3e181ba57eeb1f923b70'\n",
    "\n",
    "# Build Transaction (100000000000000 wei = 0.001 ETH)\n",
    "construct_txn = Contract.constructor(1000000000000000, [\"0x633f4bA0e352f466591edDac63b8Cc232A7be544\", \"0xfe86D01A532ee34f0ED04403D15Af2bA88a0d1c0\", \"0xfe86D01A532ee34f0ED04403D15Af2bA88a0d1c0\"]).build_transaction({\n",
    "    'from': account_address,\n",
    "    'nonce': w3.eth.get_transaction_count(account_address),\n",
    "    'gas': 2000000,\n",
    "    'gasPrice': w3.to_wei('50', 'gwei')\n",
    "})\n",
    "\n",
    "# Sign Transaction\n",
    "signed_txn = w3.eth.account.sign_transaction(construct_txn, private_key)\n",
    "\n",
    "# Send Transaction\n",
    "tx_hash = w3.eth.send_raw_transaction(signed_txn.rawTransaction)\n",
    "\n",
    "# Wait for Transaction Receipt\n",
    "tx_receipt = w3.eth.wait_for_transaction_receipt(tx_hash)\n",
    "\n",
    "print(f\"Contract Deployed at Address: {tx_receipt.contractAddress}\")\n"
   ]
  },
  {
   "cell_type": "markdown",
   "metadata": {},
   "source": [
    "### Use smart contract by contributing to gift"
   ]
  },
  {
   "cell_type": "code",
   "execution_count": 92,
   "metadata": {},
   "outputs": [
    {
     "name": "stdout",
     "output_type": "stream",
     "text": [
      "Transaction successful with hash: 0x31b70fe815a44b9a358c5d29a402f8f680603e8993a39beb5a99d40481ff800e\n"
     ]
    }
   ],
   "source": [
    "# Contract ABI and Address\n",
    "contract_abi = \"\"\"[\n",
    "\t{\n",
    "\t\t\"inputs\": [\n",
    "\t\t\t{\n",
    "\t\t\t\t\"internalType\": \"uint256\",\n",
    "\t\t\t\t\"name\": \"_giftValue\",\n",
    "\t\t\t\t\"type\": \"uint256\"\n",
    "\t\t\t},\n",
    "\t\t\t{\n",
    "\t\t\t\t\"internalType\": \"address payable[]\",\n",
    "\t\t\t\t\"name\": \"_contributors\",\n",
    "\t\t\t\t\"type\": \"address[]\"\n",
    "\t\t\t}\n",
    "\t\t],\n",
    "\t\t\"stateMutability\": \"nonpayable\",\n",
    "\t\t\"type\": \"constructor\"\n",
    "\t},\n",
    "\t{\n",
    "\t\t\"inputs\": [],\n",
    "\t\t\"name\": \"contribute\",\n",
    "\t\t\"outputs\": [],\n",
    "\t\t\"stateMutability\": \"payable\",\n",
    "\t\t\"type\": \"function\"\n",
    "\t},\n",
    "\t{\n",
    "\t\t\"inputs\": [\n",
    "\t\t\t{\n",
    "\t\t\t\t\"internalType\": \"uint256\",\n",
    "\t\t\t\t\"name\": \"\",\n",
    "\t\t\t\t\"type\": \"uint256\"\n",
    "\t\t\t}\n",
    "\t\t],\n",
    "\t\t\"name\": \"contributors\",\n",
    "\t\t\"outputs\": [\n",
    "\t\t\t{\n",
    "\t\t\t\t\"internalType\": \"address payable\",\n",
    "\t\t\t\t\"name\": \"\",\n",
    "\t\t\t\t\"type\": \"address\"\n",
    "\t\t\t}\n",
    "\t\t],\n",
    "\t\t\"stateMutability\": \"view\",\n",
    "\t\t\"type\": \"function\"\n",
    "\t},\n",
    "\t{\n",
    "\t\t\"inputs\": [],\n",
    "\t\t\"name\": \"giftPurchased\",\n",
    "\t\t\"outputs\": [\n",
    "\t\t\t{\n",
    "\t\t\t\t\"internalType\": \"bool\",\n",
    "\t\t\t\t\"name\": \"\",\n",
    "\t\t\t\t\"type\": \"bool\"\n",
    "\t\t\t}\n",
    "\t\t],\n",
    "\t\t\"stateMutability\": \"view\",\n",
    "\t\t\"type\": \"function\"\n",
    "\t},\n",
    "\t{\n",
    "\t\t\"inputs\": [],\n",
    "\t\t\"name\": \"giftValue\",\n",
    "\t\t\"outputs\": [\n",
    "\t\t\t{\n",
    "\t\t\t\t\"internalType\": \"uint256\",\n",
    "\t\t\t\t\"name\": \"\",\n",
    "\t\t\t\t\"type\": \"uint256\"\n",
    "\t\t\t}\n",
    "\t\t],\n",
    "\t\t\"stateMutability\": \"view\",\n",
    "\t\t\"type\": \"function\"\n",
    "\t},\n",
    "\t{\n",
    "\t\t\"inputs\": [\n",
    "\t\t\t{\n",
    "\t\t\t\t\"internalType\": \"address payable\",\n",
    "\t\t\t\t\"name\": \"vendor\",\n",
    "\t\t\t\t\"type\": \"address\"\n",
    "\t\t\t}\n",
    "\t\t],\n",
    "\t\t\"name\": \"purchaseGift\",\n",
    "\t\t\"outputs\": [],\n",
    "\t\t\"stateMutability\": \"nonpayable\",\n",
    "\t\t\"type\": \"function\"\n",
    "\t},\n",
    "\t{\n",
    "\t\t\"inputs\": [],\n",
    "\t\t\"name\": \"totalContributed\",\n",
    "\t\t\"outputs\": [\n",
    "\t\t\t{\n",
    "\t\t\t\t\"internalType\": \"uint256\",\n",
    "\t\t\t\t\"name\": \"\",\n",
    "\t\t\t\t\"type\": \"uint256\"\n",
    "\t\t\t}\n",
    "\t\t],\n",
    "\t\t\"stateMutability\": \"view\",\n",
    "\t\t\"type\": \"function\"\n",
    "\t}\n",
    "]\"\"\"\n",
    "contract_address = Web3.to_checksum_address('0xA333b344c513E6f3Cf6BBb9611C5F7506AE14476')  # Replace with your contract's address\n",
    "\n",
    "# Create the contract instance\n",
    "contract = w3.eth.contract(address=contract_address, abi=contract_abi)\n",
    "\n",
    "# Sender's account details\n",
    "sender_address = '0x633f4bA0e352f466591edDac63b8Cc232A7be544'\n",
    "private_key = '0x2a96ea2cf3aa1bae024f8bb3610e15539f4e62b1647f3e181ba57eeb1f923b70'\n",
    "\n",
    "# Amount to contribute (in Wei)\n",
    "amount_to_contribute = w3.to_wei(0.0005, 'ether')  # Example: Sending 1 ETH\n",
    "\n",
    "# Create the transaction\n",
    "contribute_txn = contract.functions.contribute().build_transaction({\n",
    "    'from': sender_address,\n",
    "    'value': amount_to_contribute,\n",
    "    'nonce': w3.eth.get_transaction_count(sender_address),\n",
    "    'gas': 200000,\n",
    "    'gasPrice': w3.to_wei('50', 'gwei')\n",
    "})\n",
    "\n",
    "# Sign the transaction\n",
    "signed_txn = w3.eth.account.sign_transaction(contribute_txn, private_key)\n",
    "\n",
    "# Send the transaction\n",
    "tx_hash = w3.eth.send_raw_transaction(signed_txn.rawTransaction)\n",
    "\n",
    "# Wait for the transaction to be mined\n",
    "tx_receipt = w3.eth.wait_for_transaction_receipt(tx_hash)\n",
    "\n",
    "print(f\"Transaction successful with hash: {tx_receipt.transactionHash.hex()}\")\n"
   ]
  },
  {
   "cell_type": "code",
   "execution_count": 94,
   "metadata": {},
   "outputs": [
    {
     "name": "stdout",
     "output_type": "stream",
     "text": [
      "Balance for 0x633f4bA0e352f466591edDac63b8Cc232A7be544: 0.455200843899201 ETH\n",
      "Balance for 0xfe86D01A532ee34f0ED04403D15Af2bA88a0d1c0: 0.01 ETH\n",
      "Balance for 0xC26CCf7c239d4F75eCD56692bA175a254b439683: 0 ETH\n"
     ]
    }
   ],
   "source": [
    "balance = get_balance(wallet1.address)\n",
    "print(f\"Balance for {wallet1.address}: {balance} ETH\")\n",
    "\n",
    "balance = get_balance(wallet2.address)\n",
    "print(f\"Balance for {wallet2.address}: {balance} ETH\")\n",
    "\n",
    "balance = get_balance(wallet3.address)\n",
    "print(f\"Balance for {wallet3.address}: {balance} ETH\")"
   ]
  },
  {
   "cell_type": "code",
   "execution_count": null,
   "metadata": {},
   "outputs": [],
   "source": []
  }
 ],
 "metadata": {
  "kernelspec": {
   "display_name": "fintech397",
   "language": "python",
   "name": "python3"
  },
  "language_info": {
   "codemirror_mode": {
    "name": "ipython",
    "version": 3
   },
   "file_extension": ".py",
   "mimetype": "text/x-python",
   "name": "python",
   "nbconvert_exporter": "python",
   "pygments_lexer": "ipython3",
   "version": "3.9.7"
  }
 },
 "nbformat": 4,
 "nbformat_minor": 2
}
