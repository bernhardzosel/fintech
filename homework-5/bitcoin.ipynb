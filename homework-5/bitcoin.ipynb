{
 "cells": [
  {
   "cell_type": "code",
   "execution_count": 25,
   "metadata": {},
   "outputs": [],
   "source": [
    "from bit import PrivateKeyTestnet\n",
    "\n",
    "def generate_new_testnet_wallet():\n",
    "    wallet = PrivateKeyTestnet()\n",
    "    \n",
    "    private_key = wallet.to_wif()\n",
    "    address = wallet.address\n",
    "    \n",
    "    print(\"Testnet Private Key:\", private_key)\n",
    "    print(\"Testnet Address:\", address)\n",
    "    return private_key, address"
   ]
  },
  {
   "cell_type": "code",
   "execution_count": 32,
   "metadata": {},
   "outputs": [
    {
     "name": "stdout",
     "output_type": "stream",
     "text": [
      "Testnet Private Key: cUNxUC3BiwrtXt1oyJrqgVAKxMR2GJuJ5sFgUELLoH6Zi1m2TutU\n",
      "Testnet Address: n2xuQ1MGSNqV9xAnUpdcxkoAadvWDFsgzH\n"
     ]
    }
   ],
   "source": [
    "key1, address1 = generate_new_testnet_wallet()"
   ]
  },
  {
   "cell_type": "code",
   "execution_count": 33,
   "metadata": {},
   "outputs": [],
   "source": [
    "def import_testnet_wallet(private_key):\n",
    "    wallet = PrivateKeyTestnet(private_key)\n",
    "    print(\"Imported Testnet Address:\", wallet.address)\n",
    "    return wallet"
   ]
  },
  {
   "cell_type": "code",
   "execution_count": 38,
   "metadata": {},
   "outputs": [
    {
     "name": "stdout",
     "output_type": "stream",
     "text": [
      "Imported Testnet Address: mtdWkcVzqWqEWRbcAmRvAEG69HsTAQ6b8P\n"
     ]
    }
   ],
   "source": [
    "wallet = import_testnet_wallet('cV9z78kzyCEqDwKXVt1ViB9KeS1jNddr8Y58EzCjJCgjR2byVSXg') \n",
    "# Got tBTC from https://faucet.triangleplatform.com/bitcoin/testnet\n",
    "# https://blockstream.info/testnet/address/mtdWkcVzqWqEWRbcAmRvAEG69HsTAQ6b8P"
   ]
  },
  {
   "cell_type": "code",
   "execution_count": 39,
   "metadata": {},
   "outputs": [],
   "source": [
    "def display_testnet_wallet_info(wallet):\n",
    "    print(\"Testnet Address:\", wallet.address)\n",
    "    print(\"Testnet Balance:\", wallet.get_balance('btc'))"
   ]
  },
  {
   "cell_type": "code",
   "execution_count": 40,
   "metadata": {},
   "outputs": [
    {
     "name": "stdout",
     "output_type": "stream",
     "text": [
      "Testnet Address: mtdWkcVzqWqEWRbcAmRvAEG69HsTAQ6b8P\n",
      "Testnet Balance: 0.0001\n"
     ]
    }
   ],
   "source": [
    "display_testnet_wallet_info(wallet)"
   ]
  },
  {
   "cell_type": "code",
   "execution_count": 41,
   "metadata": {},
   "outputs": [],
   "source": [
    "def send_testnet_transaction(sender_wallet, recipient_address, amount, fee_per_byte=5):\n",
    "    tx = sender_wallet.send([(recipient_address, amount, 'btc')], fee=fee_per_byte)\n",
    "    return tx"
   ]
  },
  {
   "cell_type": "code",
   "execution_count": 47,
   "metadata": {},
   "outputs": [
    {
     "name": "stdout",
     "output_type": "stream",
     "text": [
      "Testnet Transaction hash: c3237435759d4f749bff2f58ab7eedf88e93a6f164fee8927292011c4758c0f6\n"
     ]
    }
   ],
   "source": [
    "# Example usage\n",
    "tx_hash = send_testnet_transaction(wallet, 'n2xuQ1MGSNqV9xAnUpdcxkoAadvWDFsgzH', amount='0.00001', fee_per_byte=0)\n",
    "print(\"Testnet Transaction hash:\", tx_hash)"
   ]
  },
  {
   "cell_type": "code",
   "execution_count": 48,
   "metadata": {},
   "outputs": [
    {
     "name": "stdout",
     "output_type": "stream",
     "text": [
      "Testnet Address: mtdWkcVzqWqEWRbcAmRvAEG69HsTAQ6b8P\n",
      "Testnet Balance: 0.05768819\n"
     ]
    }
   ],
   "source": [
    "display_testnet_wallet_info(wallet)"
   ]
  },
  {
   "cell_type": "code",
   "execution_count": 59,
   "metadata": {},
   "outputs": [
    {
     "name": "stdout",
     "output_type": "stream",
     "text": [
      "Imported Testnet Address: n2xuQ1MGSNqV9xAnUpdcxkoAadvWDFsgzH\n",
      "Testnet Address: n2xuQ1MGSNqV9xAnUpdcxkoAadvWDFsgzH\n",
      "Testnet Balance: 0.00002\n"
     ]
    }
   ],
   "source": [
    "wallet2 = import_testnet_wallet(\"cUNxUC3BiwrtXt1oyJrqgVAKxMR2GJuJ5sFgUELLoH6Zi1m2TutU\")\n",
    "display_testnet_wallet_info(wallet2)"
   ]
  },
  {
   "cell_type": "code",
   "execution_count": 60,
   "metadata": {},
   "outputs": [
    {
     "ename": "InsufficientFunds",
     "evalue": "Balance 2000 is less than 3855 (including fee).",
     "output_type": "error",
     "traceback": [
      "\u001b[0;31m---------------------------------------------------------------------------\u001b[0m",
      "\u001b[0;31mInsufficientFunds\u001b[0m                         Traceback (most recent call last)",
      "\u001b[1;32m/Users/bernhardzosel/code/fintech/homework-5/bitcoin.ipynb Cell 11\u001b[0m line \u001b[0;36m2\n\u001b[1;32m      <a href='vscode-notebook-cell:/Users/bernhardzosel/code/fintech/homework-5/bitcoin.ipynb#X15sZmlsZQ%3D%3D?line=0'>1</a>\u001b[0m \u001b[39m# Send Back to Faucet\u001b[39;00m\n\u001b[0;32m----> <a href='vscode-notebook-cell:/Users/bernhardzosel/code/fintech/homework-5/bitcoin.ipynb#X15sZmlsZQ%3D%3D?line=1'>2</a>\u001b[0m send_testnet_transaction(wallet2, \u001b[39m'\u001b[39;49m\u001b[39mtb1qr7x7yq9gytegnnfn6yp9sk9gxktsf79t7hext2\u001b[39;49m\u001b[39m'\u001b[39;49m, amount\u001b[39m=\u001b[39;49m\u001b[39m'\u001b[39;49m\u001b[39m0.00002\u001b[39;49m\u001b[39m'\u001b[39;49m)\n",
      "\u001b[1;32m/Users/bernhardzosel/code/fintech/homework-5/bitcoin.ipynb Cell 11\u001b[0m line \u001b[0;36m2\n\u001b[1;32m      <a href='vscode-notebook-cell:/Users/bernhardzosel/code/fintech/homework-5/bitcoin.ipynb#X15sZmlsZQ%3D%3D?line=0'>1</a>\u001b[0m \u001b[39mdef\u001b[39;00m \u001b[39msend_testnet_transaction\u001b[39m(sender_wallet, recipient_address, amount, fee_per_byte\u001b[39m=\u001b[39m\u001b[39m5\u001b[39m):\n\u001b[0;32m----> <a href='vscode-notebook-cell:/Users/bernhardzosel/code/fintech/homework-5/bitcoin.ipynb#X15sZmlsZQ%3D%3D?line=1'>2</a>\u001b[0m     tx \u001b[39m=\u001b[39m sender_wallet\u001b[39m.\u001b[39;49msend([(recipient_address, amount, \u001b[39m'\u001b[39;49m\u001b[39mbtc\u001b[39;49m\u001b[39m'\u001b[39;49m)], fee\u001b[39m=\u001b[39;49mfee_per_byte)\n\u001b[1;32m      <a href='vscode-notebook-cell:/Users/bernhardzosel/code/fintech/homework-5/bitcoin.ipynb#X15sZmlsZQ%3D%3D?line=2'>3</a>\u001b[0m     \u001b[39mreturn\u001b[39;00m tx\n",
      "File \u001b[0;32m~/.pyenv/versions/3.9.7/envs/fintech397/lib/python3.9/site-packages/bit/wallet.py:772\u001b[0m, in \u001b[0;36mPrivateKeyTestnet.send\u001b[0;34m(self, outputs, fee, absolute_fee, leftover, combine, message, unspents, message_is_hex, replace_by_fee)\u001b[0m\n\u001b[1;32m    723\u001b[0m \u001b[39mdef\u001b[39;00m \u001b[39msend\u001b[39m(\n\u001b[1;32m    724\u001b[0m     \u001b[39mself\u001b[39m,\n\u001b[1;32m    725\u001b[0m     outputs,\n\u001b[0;32m   (...)\u001b[0m\n\u001b[1;32m    733\u001b[0m     replace_by_fee\u001b[39m=\u001b[39m\u001b[39mFalse\u001b[39;00m\n\u001b[1;32m    734\u001b[0m ):  \u001b[39m# pragma: no cover\u001b[39;00m\n\u001b[1;32m    735\u001b[0m \u001b[39m    \u001b[39m\u001b[39m\"\"\"Creates a signed P2PKH transaction and attempts to broadcast it on\u001b[39;00m\n\u001b[1;32m    736\u001b[0m \u001b[39m    the testnet blockchain. This accepts the same arguments as\u001b[39;00m\n\u001b[1;32m    737\u001b[0m \u001b[39m    :func:`~bit.PrivateKeyTestnet.create_transaction`.\u001b[39;00m\n\u001b[0;32m   (...)\u001b[0m\n\u001b[1;32m    769\u001b[0m \u001b[39m    :rtype: ``str``\u001b[39;00m\n\u001b[1;32m    770\u001b[0m \u001b[39m    \"\"\"\u001b[39;00m\n\u001b[0;32m--> 772\u001b[0m     tx_hex \u001b[39m=\u001b[39m \u001b[39mself\u001b[39;49m\u001b[39m.\u001b[39;49mcreate_transaction(\n\u001b[1;32m    773\u001b[0m         outputs,\n\u001b[1;32m    774\u001b[0m         fee\u001b[39m=\u001b[39;49mfee,\n\u001b[1;32m    775\u001b[0m         absolute_fee\u001b[39m=\u001b[39;49mabsolute_fee,\n\u001b[1;32m    776\u001b[0m         leftover\u001b[39m=\u001b[39;49mleftover,\n\u001b[1;32m    777\u001b[0m         combine\u001b[39m=\u001b[39;49mcombine,\n\u001b[1;32m    778\u001b[0m         message\u001b[39m=\u001b[39;49mmessage,\n\u001b[1;32m    779\u001b[0m         unspents\u001b[39m=\u001b[39;49munspents,\n\u001b[1;32m    780\u001b[0m         message_is_hex\u001b[39m=\u001b[39;49mmessage_is_hex,\n\u001b[1;32m    781\u001b[0m         replace_by_fee\u001b[39m=\u001b[39;49mreplace_by_fee\n\u001b[1;32m    782\u001b[0m     )\n\u001b[1;32m    784\u001b[0m     NetworkAPI\u001b[39m.\u001b[39mbroadcast_tx_testnet(tx_hex)\n\u001b[1;32m    786\u001b[0m     \u001b[39mreturn\u001b[39;00m calc_txid(tx_hex)\n",
      "File \u001b[0;32m~/.pyenv/versions/3.9.7/envs/fintech397/lib/python3.9/site-packages/bit/wallet.py:708\u001b[0m, in \u001b[0;36mPrivateKeyTestnet.create_transaction\u001b[0;34m(self, outputs, fee, absolute_fee, leftover, combine, message, unspents, message_is_hex, replace_by_fee)\u001b[0m\n\u001b[1;32m    705\u001b[0m \u001b[39m# If at least one input is from segwit the return address is for segwit\u001b[39;00m\n\u001b[1;32m    706\u001b[0m return_address \u001b[39m=\u001b[39m \u001b[39mself\u001b[39m\u001b[39m.\u001b[39msegwit_address \u001b[39mif\u001b[39;00m \u001b[39many\u001b[39m([u\u001b[39m.\u001b[39msegwit \u001b[39mfor\u001b[39;00m u \u001b[39min\u001b[39;00m unspents]) \u001b[39melse\u001b[39;00m \u001b[39mself\u001b[39m\u001b[39m.\u001b[39maddress\n\u001b[0;32m--> 708\u001b[0m unspents, outputs \u001b[39m=\u001b[39m sanitize_tx_data(\n\u001b[1;32m    709\u001b[0m     unspents,\n\u001b[1;32m    710\u001b[0m     outputs,\n\u001b[1;32m    711\u001b[0m     fee \u001b[39mor\u001b[39;49;00m get_fee_cached(),\n\u001b[1;32m    712\u001b[0m     leftover \u001b[39mor\u001b[39;49;00m return_address,\n\u001b[1;32m    713\u001b[0m     combine\u001b[39m=\u001b[39;49mcombine,\n\u001b[1;32m    714\u001b[0m     message\u001b[39m=\u001b[39;49mmessage,\n\u001b[1;32m    715\u001b[0m     absolute_fee\u001b[39m=\u001b[39;49mabsolute_fee,\n\u001b[1;32m    716\u001b[0m     version\u001b[39m=\u001b[39;49m\u001b[39mself\u001b[39;49m\u001b[39m.\u001b[39;49mversion,\n\u001b[1;32m    717\u001b[0m     message_is_hex\u001b[39m=\u001b[39;49mmessage_is_hex,\n\u001b[1;32m    718\u001b[0m     replace_by_fee\u001b[39m=\u001b[39;49mreplace_by_fee\n\u001b[1;32m    719\u001b[0m )\n\u001b[1;32m    721\u001b[0m \u001b[39mreturn\u001b[39;00m create_new_transaction(\u001b[39mself\u001b[39m, unspents, outputs)\n",
      "File \u001b[0;32m~/.pyenv/versions/3.9.7/envs/fintech397/lib/python3.9/site-packages/bit/transaction.py:427\u001b[0m, in \u001b[0;36msanitize_tx_data\u001b[0;34m(unspents, outputs, fee, leftover, combine, message, compressed, absolute_fee, min_change, version, message_is_hex, replace_by_fee)\u001b[0m\n\u001b[1;32m    424\u001b[0m sum_outputs \u001b[39m=\u001b[39m \u001b[39msum\u001b[39m(out[\u001b[39m1\u001b[39m] \u001b[39mfor\u001b[39;00m out \u001b[39min\u001b[39;00m outputs)\n\u001b[1;32m    426\u001b[0m \u001b[39m# Use Branch-and-Bound for coin selection:\u001b[39;00m\n\u001b[0;32m--> 427\u001b[0m unspents[:], remaining \u001b[39m=\u001b[39m select_coins(\n\u001b[1;32m    428\u001b[0m     sum_outputs,\n\u001b[1;32m    429\u001b[0m     fee,\n\u001b[1;32m    430\u001b[0m     output_size,\n\u001b[1;32m    431\u001b[0m     min_change\u001b[39m=\u001b[39;49mmin_change,\n\u001b[1;32m    432\u001b[0m     absolute_fee\u001b[39m=\u001b[39;49mabsolute_fee,\n\u001b[1;32m    433\u001b[0m     consolidate\u001b[39m=\u001b[39;49mcombine,\n\u001b[1;32m    434\u001b[0m     unspents\u001b[39m=\u001b[39;49munspents,\n\u001b[1;32m    435\u001b[0m )\n\u001b[1;32m    437\u001b[0m \u001b[39mif\u001b[39;00m replace_by_fee:\n\u001b[1;32m    438\u001b[0m     \u001b[39mfor\u001b[39;00m unspent \u001b[39min\u001b[39;00m unspents:\n",
      "File \u001b[0;32m~/.pyenv/versions/3.9.7/envs/fintech397/lib/python3.9/site-packages/bit/transaction.py:326\u001b[0m, in \u001b[0;36mselect_coins\u001b[0;34m(target, fee, output_size, min_change, absolute_fee, consolidate, unspents)\u001b[0m\n\u001b[1;32m    324\u001b[0m             \u001b[39mbreak\u001b[39;00m\n\u001b[1;32m    325\u001b[0m     \u001b[39melse\u001b[39;00m:\n\u001b[0;32m--> 326\u001b[0m         \u001b[39mraise\u001b[39;00m InsufficientFunds(\n\u001b[1;32m    327\u001b[0m             \u001b[39m'\u001b[39m\u001b[39mBalance \u001b[39m\u001b[39m{}\u001b[39;00m\u001b[39m is less than \u001b[39m\u001b[39m{}\u001b[39;00m\u001b[39m (including \u001b[39m\u001b[39m'\u001b[39m\n\u001b[1;32m    328\u001b[0m             \u001b[39m'\u001b[39m\u001b[39mfee).\u001b[39m\u001b[39m'\u001b[39m\u001b[39m.\u001b[39mformat(\u001b[39msum\u001b[39m(u\u001b[39m.\u001b[39mamount \u001b[39mfor\u001b[39;00m u \u001b[39min\u001b[39;00m selected_coins), target \u001b[39m+\u001b[39m min_change \u001b[39m+\u001b[39m estimated_fee)\n\u001b[1;32m    329\u001b[0m         )\n\u001b[1;32m    331\u001b[0m \u001b[39mreturn\u001b[39;00m selected_coins, remaining\n",
      "\u001b[0;31mInsufficientFunds\u001b[0m: Balance 2000 is less than 3855 (including fee)."
     ]
    }
   ],
   "source": [
    "# Send Back to Faucet\n",
    "send_testnet_transaction(wallet2, 'tb1qr7x7yq9gytegnnfn6yp9sk9gxktsf79t7hext2', amount='0.00002')"
   ]
  },
  {
   "cell_type": "code",
   "execution_count": null,
   "metadata": {},
   "outputs": [],
   "source": []
  }
 ],
 "metadata": {
  "kernelspec": {
   "display_name": "fintech397",
   "language": "python",
   "name": "python3"
  },
  "language_info": {
   "codemirror_mode": {
    "name": "ipython",
    "version": 3
   },
   "file_extension": ".py",
   "mimetype": "text/x-python",
   "name": "python",
   "nbconvert_exporter": "python",
   "pygments_lexer": "ipython3",
   "version": "3.9.7"
  }
 },
 "nbformat": 4,
 "nbformat_minor": 2
}
